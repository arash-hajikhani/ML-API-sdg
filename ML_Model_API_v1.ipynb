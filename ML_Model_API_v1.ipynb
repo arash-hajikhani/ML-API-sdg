{
 "cells": [
  {
   "cell_type": "markdown",
   "id": "4450a07e",
   "metadata": {},
   "source": [
    "# import the API"
   ]
  },
  {
   "cell_type": "code",
   "execution_count": 1,
   "id": "9bb2674a",
   "metadata": {},
   "outputs": [
    {
     "name": "stderr",
     "output_type": "stream",
     "text": [
      "[nltk_data] Downloading package averaged_perceptron_tagger to\n",
      "[nltk_data]     C:\\Users\\hp\\AppData\\Roaming\\nltk_data...\n",
      "[nltk_data]   Package averaged_perceptron_tagger is already up-to-\n",
      "[nltk_data]       date!\n",
      "[nltk_data] Downloading package wordnet to\n",
      "[nltk_data]     C:\\Users\\hp\\AppData\\Roaming\\nltk_data...\n",
      "[nltk_data]   Package wordnet is already up-to-date!\n",
      "[nltk_data] Downloading package omw-1.4 to\n",
      "[nltk_data]     C:\\Users\\hp\\AppData\\Roaming\\nltk_data...\n",
      "[nltk_data]   Package omw-1.4 is already up-to-date!\n"
     ]
    }
   ],
   "source": [
    "import ML_MODEL.pred_class as pc\n",
    "pred = pc.prediction()\n",
    "\n",
    "import pandas as pd"
   ]
  },
  {
   "cell_type": "markdown",
   "id": "5aed2a07",
   "metadata": {},
   "source": [
    "# read test dataset"
   ]
  },
  {
   "cell_type": "code",
   "execution_count": 7,
   "id": "c7bb93ed",
   "metadata": {},
   "outputs": [],
   "source": [
    "import pandas as pd\n",
    "df = pd.read_excel('ML_MODEL/Test_data.xlsx', index_col=0)\n",
    "\n",
    "# filter to get unique-id and text column...\n",
    "df = df[['EID','TitleAbstract_text']]"
   ]
  },
  {
   "cell_type": "code",
   "execution_count": 8,
   "id": "dfe2229f",
   "metadata": {},
   "outputs": [
    {
     "data": {
      "text/html": [
       "<div>\n",
       "<style scoped>\n",
       "    .dataframe tbody tr th:only-of-type {\n",
       "        vertical-align: middle;\n",
       "    }\n",
       "\n",
       "    .dataframe tbody tr th {\n",
       "        vertical-align: top;\n",
       "    }\n",
       "\n",
       "    .dataframe thead th {\n",
       "        text-align: right;\n",
       "    }\n",
       "</style>\n",
       "<table border=\"1\" class=\"dataframe\">\n",
       "  <thead>\n",
       "    <tr style=\"text-align: right;\">\n",
       "      <th></th>\n",
       "      <th>EID</th>\n",
       "      <th>TitleAbstract_text</th>\n",
       "    </tr>\n",
       "  </thead>\n",
       "  <tbody>\n",
       "    <tr>\n",
       "      <th>0</th>\n",
       "      <td>2-s2.0-77955687685</td>\n",
       "      <td>Building sustainable hybrid organizations: The...</td>\n",
       "    </tr>\n",
       "    <tr>\n",
       "      <th>1</th>\n",
       "      <td>2-s2.0-80055035517</td>\n",
       "      <td>The fundamental institutions of China's reform...</td>\n",
       "    </tr>\n",
       "    <tr>\n",
       "      <th>2</th>\n",
       "      <td>2-s2.0-77952583683</td>\n",
       "      <td>Building social business models: Lessons from ...</td>\n",
       "    </tr>\n",
       "    <tr>\n",
       "      <th>3</th>\n",
       "      <td>2-s2.0-79951759018</td>\n",
       "      <td>Sustainable intensification in African agricul...</td>\n",
       "    </tr>\n",
       "    <tr>\n",
       "      <th>4</th>\n",
       "      <td>2-s2.0-77956187051</td>\n",
       "      <td>Global water crisis and future food security i...</td>\n",
       "    </tr>\n",
       "  </tbody>\n",
       "</table>\n",
       "</div>"
      ],
      "text/plain": [
       "                  EID                                 TitleAbstract_text\n",
       "0  2-s2.0-77955687685  Building sustainable hybrid organizations: The...\n",
       "1  2-s2.0-80055035517  The fundamental institutions of China's reform...\n",
       "2  2-s2.0-77952583683  Building social business models: Lessons from ...\n",
       "3  2-s2.0-79951759018  Sustainable intensification in African agricul...\n",
       "4  2-s2.0-77956187051  Global water crisis and future food security i..."
      ]
     },
     "execution_count": 8,
     "metadata": {},
     "output_type": "execute_result"
    }
   ],
   "source": [
    "df.head()"
   ]
  },
  {
   "cell_type": "markdown",
   "id": "c5f9e030",
   "metadata": {},
   "source": [
    "# get the prediction"
   ]
  },
  {
   "cell_type": "code",
   "execution_count": 9,
   "id": "91079df6",
   "metadata": {},
   "outputs": [],
   "source": [
    "# df is the test dataframe\n",
    "# EDI -> unique id column\n",
    "# TitleAbstract_text -> is text to be cleaned\n",
    "\n",
    "data = pred.get_predictions(df,'EID','TitleAbstract_text')"
   ]
  },
  {
   "cell_type": "code",
   "execution_count": null,
   "id": "ee456096",
   "metadata": {},
   "outputs": [],
   "source": []
  }
 ],
 "metadata": {
  "kernelspec": {
   "display_name": "Python 3.7.5 64-bit (system)",
   "language": "python",
   "name": "python3"
  },
  "language_info": {
   "codemirror_mode": {
    "name": "ipython",
    "version": 3
   },
   "file_extension": ".py",
   "mimetype": "text/x-python",
   "name": "python",
   "nbconvert_exporter": "python",
   "pygments_lexer": "ipython3",
   "version": "3.7.5"
  },
  "vscode": {
   "interpreter": {
    "hash": "f54d16d871487d943901059aa23dded262b19410ca20fc10dcf002a3f6a6ca8b"
   }
  }
 },
 "nbformat": 4,
 "nbformat_minor": 5
}
